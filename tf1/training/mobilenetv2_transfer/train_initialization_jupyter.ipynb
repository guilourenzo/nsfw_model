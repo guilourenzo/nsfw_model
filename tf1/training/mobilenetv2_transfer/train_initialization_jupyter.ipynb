{
 "metadata": {
  "language_info": {
   "codemirror_mode": {
    "name": "ipython",
    "version": 3
   },
   "file_extension": ".py",
   "mimetype": "text/x-python",
   "name": "python",
   "nbconvert_exporter": "python",
   "pygments_lexer": "ipython3",
   "version": 3
  },
  "orig_nbformat": 2
 },
 "nbformat": 4,
 "nbformat_minor": 2,
 "cells": [
  {
   "cell_type": "code",
   "execution_count": null,
   "metadata": {},
   "outputs": [],
   "source": [
    "from datetime import datetime\n",
    "import logging\n",
    "\n",
    "logging.basicConfig(filename='train_initialization.log', filemode='w', format='%(asctime)s - %(levelname)s - %(message)s', datefmt='%d-%b-%y %H:%M:%S', level=logging.INFO)\n",
    "logging.info('SCRIPT INICIADO')\n"
   ]
  },
  {
   "cell_type": "code",
   "execution_count": null,
   "metadata": {},
   "outputs": [],
   "source": [
    "import os\n",
    "from keras.preprocessing.image import ImageDataGenerator\n",
    "from keras.backend import clear_session\n",
    "from keras.optimizers import SGD\n",
    "from pathlib import Path\n",
    "from keras.applications.mobilenet_v2 import MobileNetV2\n",
    "from keras.models import Sequential, Model, load_model\n",
    "from keras.layers import Dense, Dropout, Flatten, AveragePooling2D\n",
    "from keras import initializers, regularizers\n",
    "\n",
    "logging.info('BIBLIOTECAS IMPORTADAS')"
   ]
  },
  {
   "cell_type": "code",
   "execution_count": null,
   "metadata": {},
   "outputs": [],
   "source": [
    "# reusable stuff\n",
    "import constants\n",
    "import callbacks\n",
    "import generators\n",
    "\n",
    "logging.info('CONFIGURAÇÕES IMPORTADAS')"
   ]
  },
  {
   "cell_type": "code",
   "execution_count": null,
   "metadata": {},
   "outputs": [],
   "source": [
    "# No kruft plz\n",
    "clear_session()\n",
    "logging.info('SESSÃO REINICIALIZADA COM SUCESSO')\n",
    "\n",
    "import tensorflow as tf\n",
    "from keras.backend.tensorflow_backend import set_session\n",
    "config = tf.ConfigProto()\n",
    "config.gpu_options.allow_growth = True  # dynamically grow the memory used on the GPU\n",
    "sess = tf.Session(config=config)\n",
    "set_session(sess)  # set this TensorFlow session as the default session for Keras\n",
    "\n",
    "logging.info('AJUSTES DE USO DE GPU FINALIZADO COM SUCESSO')"
   ]
  },
  {
   "cell_type": "code",
   "execution_count": null,
   "metadata": {},
   "outputs": [],
   "source": [
    "# Config\n",
    "height = constants.SIZES['basic']\n",
    "width = height\n",
    "weights_file = \"weights.best_mobilenet\" + str(height) + \".hdf5\"\n",
    "\n",
    "logging.info('PESOS DO MODELO IMPORTADOS COM SUCESSO')"
   ]
  },
  {
   "cell_type": "code",
   "execution_count": null,
   "metadata": {},
   "outputs": [],
   "source": [
    "conv_base = MobileNetV2(\n",
    "    weights='imagenet', \n",
    "    include_top=False, \n",
    "    input_shape=(height, width, constants.NUM_CHANNELS)\n",
    ")\n",
    "logging.info('MODELO MobileNetV2 IMPORTADO COM SUCESSO')"
   ]
  },
  {
   "cell_type": "code",
   "execution_count": null,
   "metadata": {},
   "outputs": [],
   "source": [
    "# First time run, no unlocking\n",
    "conv_base.trainable = False\n",
    "logging.info('AJUSTE DE TREINAMENTO DO MODELO REALIZADO COM SUCESSO')"
   ]
  },
  {
   "cell_type": "code",
   "execution_count": null,
   "metadata": {},
   "outputs": [],
   "source": [
    "# Let's see it\n",
    "print('Summary')\n",
    "print(conv_base.summary())\n",
    "\n",
    "logging.info('SUMARIO DO MODELO')\n",
    "logging.info(conv_base.summary())"
   ]
  },
  {
   "cell_type": "code",
   "execution_count": null,
   "metadata": {},
   "outputs": [],
   "source": [
    "# Let's construct that top layer replacement\n",
    "x = conv_base.output\n",
    "x = AveragePooling2D(pool_size=(7, 7))(x)\n",
    "x = Flatten()(x)\n",
    "x = Dense(256, activation='relu', kernel_initializer=initializers.he_normal(seed=None), kernel_regularizer=regularizers.l2(.0005))(x)\n",
    "x = Dropout(0.5)(x)\n",
    "# Essential to have another layer for better accuracy\n",
    "x = Dense(128,activation='relu', kernel_initializer=initializers.he_normal(seed=None))(x)\n",
    "x = Dropout(0.25)(x)\n",
    "predictions = Dense(constants.NUM_CLASSES,  kernel_initializer=\"glorot_uniform\", activation='softmax')(x)\n",
    "\n",
    "logging.info('NOVAS CAMADAS CONFIGURADAS COM SUCESSO')"
   ]
  },
  {
   "cell_type": "code",
   "execution_count": null,
   "metadata": {},
   "outputs": [],
   "source": [
    "print('Stacking New Layers')\n",
    "model = Model(inputs = conv_base.input, outputs=predictions)\n",
    "\n",
    "logging.info('NOVAS CAMADAS ADICIONADAS AO MODELO COM SUCESSO')"
   ]
  },
  {
   "cell_type": "code",
   "execution_count": null,
   "metadata": {},
   "outputs": [],
   "source": [
    "# Load checkpoint if one is found\n",
    "if os.path.exists(weights_file):\n",
    "        print (\"loading \", weights_file)\n",
    "        model.load_weights(weights_file)\n",
    "\n",
    "logging.info('VERIFICAÇÃO DE CHECKPOINT')"
   ]
  },
  {
   "cell_type": "code",
   "execution_count": null,
   "metadata": {},
   "outputs": [],
   "source": [
    "# Get all model callbacks\n",
    "callbacks_list = callbacks.make_callbacks(weights_file)\n",
    "\n",
    "logging.info('INICIALIZACAO DO CALLBACK REALIZADO')"
   ]
  },
  {
   "cell_type": "code",
   "execution_count": null,
   "metadata": {},
   "outputs": [],
   "source": [
    "print('Compile model')\n",
    "# originally adam, but research says SGD with scheduler\n",
    "# opt = Adam(lr=0.001, amsgrad=True)\n",
    "opt = SGD(momentum=.9)\n",
    "model.compile(\n",
    "    loss='categorical_crossentropy',\n",
    "    optimizer=opt,\n",
    "    metrics=['accuracy']\n",
    ")\n",
    "\n",
    "logging.info('MODELO COMPILADO COM SUCESSO')"
   ]
  },
  {
   "cell_type": "code",
   "execution_count": null,
   "metadata": {},
   "outputs": [],
   "source": [
    "# Get training/validation data via generators\n",
    "train_generator, validation_generator = generators.create_generators(height, width)\n",
    "\n",
    "logging.info('BASES DE TREINAMENTO E TESTES IMPORTADAS COM SUCESSO')"
   ]
  },
  {
   "cell_type": "code",
   "execution_count": null,
   "metadata": {},
   "outputs": [],
   "source": [
    "print('Start training!')\n",
    "\n",
    "logging.info('TREINAMENTO DO MODELO INICIADO')\n",
    "\n",
    "history = model.fit_generator(\n",
    "    train_generator,\n",
    "    callbacks=callbacks_list,\n",
    "    epochs=constants.TOTAL_EPOCHS,\n",
    "    steps_per_epoch=constants.STEPS_PER_EPOCH,\n",
    "    shuffle=True,\n",
    "    workers=4,\n",
    "    use_multiprocessing=False,\n",
    "    validation_data=validation_generator,\n",
    "    validation_steps=constants.VALIDATION_STEPS\n",
    ")\n",
    "logging.info('TREINAMENTO DO MODELO FINALIZADO')"
   ]
  },
  {
   "cell_type": "code",
   "execution_count": null,
   "metadata": {},
   "outputs": [],
   "source": [
    "# Save it for later\n",
    "print('Saving Model')\n",
    "model.save(\"nude_mobilenet2.\" + str(width) + \"x\" + str(height) + \".h5\")\n",
    "logging.info('MODELO EXPORTADO COM SUCESSO')"
   ]
  },
  {
   "cell_type": "code",
   "execution_count": null,
   "metadata": {},
   "outputs": [],
   "source": [
    "final_loss, final_accuracy = model.evaluate(validation_generator, steps = constants.VALIDATION_STEPS)\n",
    "logging.info('AVALIACAO DO MODELO REALIZADO COM SUCESSO')\n"
   ]
  },
  {
   "cell_type": "code",
   "execution_count": null,
   "metadata": {},
   "outputs": [],
   "source": [
    "print(\"Final loss: {:.2f}\".format(final_loss))\n",
    "print(\"Final accuracy: {:.2f}%\".format(final_accuracy * 100))\n",
    "\n",
    "logging.info('FINAL LOSS: {:.2f}'.format(final_loss))\n",
    "logging.info('FINAL ACCURACY: {:.2f}%'.format(final_accuracy * 100))"
   ]
  },
  {
   "cell_type": "code",
   "execution_count": null,
   "metadata": {},
   "outputs": [],
   "source": [
    "import matplotlib.pyplot as plt"
   ]
  },
  {
   "cell_type": "code",
   "execution_count": null,
   "metadata": {},
   "outputs": [],
   "source": [
    "# summarize history for accuracy\n",
    "plt.plot(history.history['accuracy'])\n",
    "plt.plot(history.history['val_accuracy'])\n",
    "plt.title('model accuracy')\n",
    "plt.ylabel('accuracy')\n",
    "plt.xlabel('epoch')\n",
    "plt.legend(['train', 'test'], loc='upper left')\n",
    "plt.show()\n",
    "# summarize history for loss\n",
    "plt.plot(history.history['loss'])\n",
    "plt.plot(history.history['val_loss'])\n",
    "plt.title('model loss')\n",
    "plt.ylabel('loss')\n",
    "plt.xlabel('epoch')\n",
    "plt.legend(['train', 'test'], loc='upper left')\n",
    "plt.show()"
   ]
  },
  {
   "cell_type": "code",
   "execution_count": null,
   "metadata": {},
   "outputs": [],
   "source": [
    "saved_model_dir = 'nude_mobilenetv2_train'\n",
    "Path(saved_model_dir).mkdir(parents=True, exist_ok=True)\n",
    "tf.saved_model.save(model, saved_model_dir)\n",
    "keras_model_path = os.path.join(saved_model_dir, \"saved_model.h5\")\n",
    "weights_path = os.path.join(saved_model_dir, \"saved_model_weights.h5\")\n",
    "model.save(keras_model_path)\n",
    "model.save_weights(weights_path)\n",
    "print(\"SavedModel model exported to\", saved_model_dir)\n",
    "logging.info('MODELO SALVO NA PASTA %s', saved_model_dir)"
   ]
  },
  {
   "cell_type": "code",
   "execution_count": null,
   "metadata": {},
   "outputs": [],
   "source": [
    "Path(saved_model_dir).mkdir(parents=True, exist_ok=True)\n",
    "tf.io.write_graph(graph_or_graph_def=frozen_graph,\n",
    "logdir=saved_model_dir,\n",
    "name=\"frozen_graph.pb\",\n",
    "as_text=False)\n",
    "\n",
    "logging.info('FROZEN GRAPH SALVOS NA PASTA %s', saved_model_dir)"
   ]
  },
  {
   "cell_type": "code",
   "execution_count": null,
   "metadata": {},
   "outputs": [],
   "source": [
    "indexed_labels = [(index, label) for label, index in train_generator.class_indices.items()]\n",
    "print(indexed_labels)\n",
    "logging.info('LABELS: %s', indexed_labels)"
   ]
  },
  {
   "cell_type": "code",
   "execution_count": null,
   "metadata": {},
   "outputs": [],
   "source": [
    "sorted_indices, sorted_labels = zip(*sorted(indexed_labels))\n",
    "print(sorted_indices)\n",
    "print(sorted_labels)\n",
    "\n",
    "logging.info('SORTED INDICES: %s', sorted_indices)\n",
    "logging.info('SORTED LABELS: %s', sorted_labels)\n"
   ]
  },
  {
   "cell_type": "code",
   "execution_count": null,
   "metadata": {},
   "outputs": [],
   "source": [
    "labels_dir_path = os.path.dirname(saved_model_dir)\n",
    "# Ensure dir structure exists\n",
    "Path(saved_model_dir).mkdir(parents=True, exist_ok=True)\n",
    "with tf.io.gfile.GFile('labels.txt', \"w\") as f:\n",
    "    f.write(\"\\n\".join(sorted_labels + (\"\",)))\n",
    "print(\"Labels written to\", saved_model_dir)\n",
    "logging.info('ARQUIVO DE LABELS SALVO COM SUCESSO')"
   ]
  },
  {
   "cell_type": "code",
   "execution_count": null,
   "metadata": {},
   "outputs": [],
   "source": []
  },
  {
   "cell_type": "code",
   "execution_count": null,
   "metadata": {},
   "outputs": [],
   "source": []
  },
  {
   "cell_type": "code",
   "execution_count": null,
   "metadata": {},
   "outputs": [],
   "source": []
  },
  {
   "cell_type": "code",
   "execution_count": null,
   "metadata": {},
   "outputs": [],
   "source": []
  },
  {
   "cell_type": "code",
   "execution_count": null,
   "metadata": {},
   "outputs": [],
   "source": []
  },
  {
   "cell_type": "code",
   "execution_count": null,
   "metadata": {},
   "outputs": [],
   "source": []
  },
  {
   "cell_type": "code",
   "execution_count": null,
   "metadata": {},
   "outputs": [],
   "source": []
  },
  {
   "cell_type": "code",
   "execution_count": null,
   "metadata": {},
   "outputs": [],
   "source": []
  },
  {
   "cell_type": "code",
   "execution_count": null,
   "metadata": {},
   "outputs": [],
   "source": []
  },
  {
   "cell_type": "code",
   "execution_count": null,
   "metadata": {},
   "outputs": [],
   "source": []
  },
  {
   "cell_type": "code",
   "execution_count": null,
   "metadata": {},
   "outputs": [],
   "source": []
  },
  {
   "cell_type": "code",
   "execution_count": null,
   "metadata": {},
   "outputs": [],
   "source": []
  },
  {
   "cell_type": "code",
   "execution_count": null,
   "metadata": {},
   "outputs": [],
   "source": []
  },
  {
   "cell_type": "code",
   "execution_count": null,
   "metadata": {},
   "outputs": [],
   "source": []
  },
  {
   "cell_type": "code",
   "execution_count": null,
   "metadata": {},
   "outputs": [],
   "source": []
  },
  {
   "cell_type": "code",
   "execution_count": null,
   "metadata": {},
   "outputs": [],
   "source": []
  },
  {
   "cell_type": "code",
   "execution_count": null,
   "metadata": {},
   "outputs": [],
   "source": []
  },
  {
   "cell_type": "code",
   "execution_count": null,
   "metadata": {},
   "outputs": [],
   "source": []
  }
 ]
}