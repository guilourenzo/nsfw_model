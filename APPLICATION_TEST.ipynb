{
 "metadata": {
  "language_info": {
   "codemirror_mode": {
    "name": "ipython",
    "version": 3
   },
   "file_extension": ".py",
   "mimetype": "text/x-python",
   "name": "python",
   "nbconvert_exporter": "python",
   "pygments_lexer": "ipython3",
   "version": "3.8.3-final"
  },
  "orig_nbformat": 2,
  "kernelspec": {
   "name": "Python 3.8.3 64-bit ('base': conda)",
   "display_name": "Python 3.8.3 64-bit ('base': conda)",
   "metadata": {
    "interpreter": {
     "hash": "b3ba2566441a7c06988d0923437866b63cedc61552a5af99d1f4fb67d367b25f"
    }
   }
  }
 },
 "nbformat": 4,
 "nbformat_minor": 2,
 "cells": [
  {
   "cell_type": "code",
   "execution_count": 1,
   "metadata": {},
   "outputs": [],
   "source": [
    "import glob\n",
    "import shutil, os\n",
    "import random\n",
    "train = 0\n",
    "test = 0\n",
    "validate = 0\n"
   ]
  },
  {
   "cell_type": "code",
   "execution_count": 2,
   "metadata": {},
   "outputs": [],
   "source": [
    "# Function to rename multiple files \n",
    "def rename_file(path, data_class): \n",
    "    for count, filename in enumerate(os.listdir(path)): \n",
    "        dst = data_class + '_' + str(count) + \".jpg\"\n",
    "        src = path +'\\\\' + filename \n",
    "        dst = path +'\\\\' + dst \n",
    "          \n",
    "        # rename() function will \n",
    "        # rename all the files \n",
    "        os.rename(src, dst) "
   ]
  },
  {
   "cell_type": "code",
   "execution_count": 3,
   "metadata": {
    "tags": []
   },
   "outputs": [
    {
     "output_type": "stream",
     "name": "stdout",
     "text": "426154\n426154\n"
    }
   ],
   "source": [
    "path = r'C:\\Users\\guilo\\mba-tcc\\data\\training\\nude\\*.jpeg'\n",
    "nude = glob.glob(path)\n",
    "train += len(nude)\n",
    "print(train)\n",
    "print(len(nude))"
   ]
  },
  {
   "cell_type": "code",
   "execution_count": 4,
   "metadata": {
    "tags": []
   },
   "outputs": [
    {
     "output_type": "stream",
     "name": "stdout",
     "text": "463712\n37558\n"
    }
   ],
   "source": [
    "path = r'C:\\Users\\guilo\\mba-tcc\\data\\training\\sexy\\*.jpg'\n",
    "sexy = glob.glob(path)\n",
    "train += len(sexy)\n",
    "print(train)\n",
    "print(len(sexy))"
   ]
  },
  {
   "cell_type": "code",
   "execution_count": 5,
   "metadata": {
    "tags": []
   },
   "outputs": [
    {
     "output_type": "stream",
     "name": "stdout",
     "text": "604850\n141138\n"
    }
   ],
   "source": [
    "path = r'C:\\Users\\guilo\\mba-tcc\\data\\training\\safe\\*.jpg'\n",
    "safe = glob.glob(path)\n",
    "train += len(safe)\n",
    "print(train)\n",
    "print(len(safe))"
   ]
  },
  {
   "cell_type": "code",
   "execution_count": 6,
   "metadata": {
    "tags": []
   },
   "outputs": [
    {
     "output_type": "stream",
     "name": "stdout",
     "text": "Nude: 426154 obs | 70.46%\nSexy: 37558 obs | 6.21%\nSafe: 141138 obs | 23.33%\nTotal - Train: 604850\n"
    }
   ],
   "source": [
    "print(f'Nude: {len(nude)} obs | {round((len(nude)/train)*100, 2)}%')\n",
    "print(f'Sexy: {len(sexy)} obs | {round((len(sexy)/train)*100, 2)}%')\n",
    "print(f'Safe: {len(safe)} obs | {round((len(safe)/train)*100, 2)}%')\n",
    "print(f'Total - Train: {train}')"
   ]
  },
  {
   "cell_type": "code",
   "execution_count": 7,
   "metadata": {},
   "outputs": [],
   "source": [
    "training_nude = random.sample(nude, 9189)\n",
    "for f in training_nude:\n",
    "    shutil.copy(f, r'C:\\Users\\guilo\\mba-tcc\\data\\train\\not_safe')\n",
    "\n",
    "training_sexy = random.sample(sexy, 811)\n",
    "for f in training_sexy:\n",
    "    shutil.copy(f, r'C:\\Users\\guilo\\mba-tcc\\data\\train\\not_safe')\n",
    "\n",
    "training_safe = random.sample(safe, 10000)\n",
    "for f in training_safe:\n",
    "    shutil.copy(f, r'C:\\Users\\guilo\\mba-tcc\\data\\train\\safest')"
   ]
  },
  {
   "cell_type": "code",
   "execution_count": 8,
   "metadata": {},
   "outputs": [],
   "source": [
    "rename_file(r'C:\\Users\\guilo\\mba-tcc\\data\\train\\not_safe', 'not_safe')\n",
    "rename_file(r'C:\\Users\\guilo\\mba-tcc\\data\\train\\safest', 'safest')"
   ]
  },
  {
   "source": [
    "----"
   ],
   "cell_type": "markdown",
   "metadata": {}
  },
  {
   "cell_type": "code",
   "execution_count": 14,
   "metadata": {
    "tags": []
   },
   "outputs": [
    {
     "output_type": "stream",
     "name": "stdout",
     "text": "10049\n3878\n"
    }
   ],
   "source": [
    "path = r'C:\\Users\\guilo\\mba-tcc\\data\\testing\\nude\\*.jpg'\n",
    "nude = glob.glob(path)\n",
    "test += len(nude)\n",
    "print(test)\n",
    "print(len(nude))"
   ]
  },
  {
   "cell_type": "code",
   "execution_count": 15,
   "metadata": {
    "tags": []
   },
   "outputs": [
    {
     "output_type": "stream",
     "name": "stdout",
     "text": "12170\n2121\n"
    }
   ],
   "source": [
    "path = r'C:\\Users\\guilo\\mba-tcc\\data\\testing\\sexy\\*.jpg'\n",
    "sexy = glob.glob(path)\n",
    "test += len(sexy)\n",
    "print(test)\n",
    "print(len(sexy))"
   ]
  },
  {
   "cell_type": "code",
   "execution_count": 16,
   "metadata": {
    "tags": []
   },
   "outputs": [
    {
     "output_type": "stream",
     "name": "stdout",
     "text": "16220\n4050\n"
    }
   ],
   "source": [
    "path = r'C:\\Users\\guilo\\mba-tcc\\data\\testing\\safe\\*.jpg'\n",
    "safe = glob.glob(path)\n",
    "test += len(safe)\n",
    "print(test)\n",
    "print(len(safe))"
   ]
  },
  {
   "cell_type": "code",
   "execution_count": 17,
   "metadata": {
    "tags": []
   },
   "outputs": [
    {
     "output_type": "stream",
     "name": "stdout",
     "text": "Nude: 3878 obs | 23.91%\nSexy: 2121 obs | 13.08%\nSafe: 4050 obs | 24.97%\nTotal - Train: 16220\n"
    }
   ],
   "source": [
    "print(f'Nude: {len(nude)} obs | {round((len(nude)/test)*100, 2)}%')\n",
    "print(f'Sexy: {len(sexy)} obs | {round((len(sexy)/test)*100, 2)}%')\n",
    "print(f'Safe: {len(safe)} obs | {round((len(safe)/test)*100, 2)}%')\n",
    "print(f'Total - Test: {test}')"
   ]
  },
  {
   "cell_type": "code",
   "execution_count": 18,
   "metadata": {},
   "outputs": [],
   "source": [
    "testing_nude = random.sample(nude, 1616)\n",
    "for f in testing_nude:\n",
    "    shutil.copy(f, r'C:\\Users\\guilo\\mba-tcc\\data\\test\\not_safe')\n",
    "\n",
    "testing_sexy = random.sample(sexy, 884)\n",
    "for f in testing_sexy:\n",
    "    shutil.copy(f, r'C:\\Users\\guilo\\mba-tcc\\data\\test\\not_safe')\n",
    "\n",
    "testing_safe = random.sample(safe, 2500)\n",
    "for f in testing_safe:\n",
    "    shutil.copy(f, r'C:\\Users\\guilo\\mba-tcc\\data\\test\\safest')"
   ]
  },
  {
   "cell_type": "code",
   "execution_count": 19,
   "metadata": {},
   "outputs": [],
   "source": [
    "rename_file(r'C:\\Users\\guilo\\mba-tcc\\data\\test\\not_safe', 'not_safe')\n",
    "rename_file(r'C:\\Users\\guilo\\mba-tcc\\data\\test\\safest', 'safest')"
   ]
  },
  {
   "source": [
    "----"
   ],
   "cell_type": "markdown",
   "metadata": {}
  },
  {
   "cell_type": "code",
   "execution_count": 21,
   "metadata": {
    "tags": []
   },
   "outputs": [
    {
     "output_type": "stream",
     "name": "stdout",
     "text": "4000\n4000\n"
    }
   ],
   "source": [
    "path = r'C:\\Users\\guilo\\mba-tcc\\data\\validation\\nude\\*.jpg'\n",
    "nude = glob.glob(path)\n",
    "validate += len(nude)\n",
    "print(validate)\n",
    "print(len(nude))"
   ]
  },
  {
   "cell_type": "code",
   "execution_count": 22,
   "metadata": {
    "tags": []
   },
   "outputs": [
    {
     "output_type": "stream",
     "name": "stdout",
     "text": "6248\n2248\n"
    }
   ],
   "source": [
    "path = r'C:\\Users\\guilo\\mba-tcc\\data\\validation\\sexy\\*.jpg'\n",
    "sexy = glob.glob(path)\n",
    "validate += len(sexy)\n",
    "print(validate)\n",
    "print(len(sexy))"
   ]
  },
  {
   "cell_type": "code",
   "execution_count": 23,
   "metadata": {
    "tags": []
   },
   "outputs": [
    {
     "output_type": "stream",
     "name": "stdout",
     "text": "10306\n4058\n"
    }
   ],
   "source": [
    "path = r'C:\\Users\\guilo\\mba-tcc\\data\\validation\\safe\\*.jpg'\n",
    "safe = glob.glob(path)\n",
    "validate += len(safe)\n",
    "print(validate)\n",
    "print(len(safe))"
   ]
  },
  {
   "cell_type": "code",
   "execution_count": 24,
   "metadata": {
    "tags": []
   },
   "outputs": [
    {
     "output_type": "stream",
     "name": "stdout",
     "text": "Nude: 4000 obs | 38.81%\nSexy: 2248 obs | 21.81%\nSafe: 4058 obs | 39.38%\nTotal - Validating: 10306\n"
    }
   ],
   "source": [
    "print(f'Nude: {len(nude)} obs | {round((len(nude)/validate)*100, 2)}%')\n",
    "print(f'Sexy: {len(sexy)} obs | {round((len(sexy)/validate)*100, 2)}%')\n",
    "print(f'Safe: {len(safe)} obs | {round((len(safe)/validate)*100, 2)}%')\n",
    "print(f'Total - Validating: {validate}')"
   ]
  },
  {
   "cell_type": "code",
   "execution_count": 25,
   "metadata": {},
   "outputs": [],
   "source": [
    "validation_nude = random.sample(nude, 1921)\n",
    "for f in validation_nude:\n",
    "    shutil.copy(f, r'C:\\Users\\guilo\\mba-tcc\\data\\validate\\not_safe')\n",
    "\n",
    "validation_sexy = random.sample(sexy, 1079)\n",
    "for f in validation_sexy:\n",
    "    shutil.copy(f, r'C:\\Users\\guilo\\mba-tcc\\data\\validate\\not_safe')\n",
    "\n",
    "validation_safe = random.sample(safe, 3000)\n",
    "for f in validation_safe:\n",
    "    shutil.copy(f, r'C:\\Users\\guilo\\mba-tcc\\data\\validate\\safest')"
   ]
  },
  {
   "cell_type": "code",
   "execution_count": 26,
   "metadata": {},
   "outputs": [],
   "source": [
    "rename_file(r'C:\\Users\\guilo\\mba-tcc\\data\\validate\\not_safe', 'not_safe')\n",
    "rename_file(r'C:\\Users\\guilo\\mba-tcc\\data\\validate\\safest', 'safest')"
   ]
  },
  {
   "source": [
    "----"
   ],
   "cell_type": "markdown",
   "metadata": {}
  },
  {
   "cell_type": "code",
   "execution_count": null,
   "metadata": {},
   "outputs": [],
   "source": []
  },
  {
   "cell_type": "code",
   "execution_count": null,
   "metadata": {},
   "outputs": [],
   "source": []
  },
  {
   "cell_type": "code",
   "execution_count": null,
   "metadata": {},
   "outputs": [],
   "source": []
  },
  {
   "cell_type": "code",
   "execution_count": null,
   "metadata": {},
   "outputs": [],
   "source": []
  },
  {
   "cell_type": "code",
   "execution_count": null,
   "metadata": {},
   "outputs": [],
   "source": []
  },
  {
   "cell_type": "code",
   "execution_count": null,
   "metadata": {},
   "outputs": [],
   "source": []
  },
  {
   "cell_type": "code",
   "execution_count": null,
   "metadata": {},
   "outputs": [],
   "source": []
  },
  {
   "cell_type": "code",
   "execution_count": null,
   "metadata": {},
   "outputs": [],
   "source": []
  }
 ]
}